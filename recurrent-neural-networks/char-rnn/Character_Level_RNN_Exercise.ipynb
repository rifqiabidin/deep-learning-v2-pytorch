{
  "nbformat": 4,
  "nbformat_minor": 0,
  "metadata": {
    "kernelspec": {
      "name": "python3",
      "display_name": "Python 3"
    },
    "language_info": {
      "codemirror_mode": {
        "name": "ipython",
        "version": 3
      },
      "file_extension": ".py",
      "mimetype": "text/x-python",
      "name": "python",
      "nbconvert_exporter": "python",
      "pygments_lexer": "ipython3",
      "version": "3.6.4"
    },
    "colab": {
      "name": "Character_Level_RNN_Exercise.ipynb",
      "provenance": []
    },
    "accelerator": "GPU"
  },
  "cells": [
    {
      "cell_type": "markdown",
      "metadata": {
        "id": "7HXB0DiTzfmO",
        "colab_type": "text"
      },
      "source": [
        "# Character-Level LSTM in PyTorch\n",
        "\n",
        "In this notebook, I'll construct a character-level LSTM with PyTorch. The network will train character by character on some text, then generate new text character by character. As an example, I will train on Anna Karenina. **This model will be able to generate new text based on the text from the book!**\n",
        "\n",
        "This network is based off of Andrej Karpathy's [post on RNNs](http://karpathy.github.io/2015/05/21/rnn-effectiveness/) and [implementation in Torch](https://github.com/karpathy/char-rnn). Below is the general architecture of the character-wise RNN.\n",
        "\n",
        "<img src=\"https://github.com/rifqiabidin/deep-learning-v2-pytorch/blob/master/recurrent-neural-networks/char-rnn/assets/charseq.jpeg?raw=1\" width=\"500\">"
      ]
    },
    {
      "cell_type": "markdown",
      "metadata": {
        "id": "PabQJu60zfmW",
        "colab_type": "text"
      },
      "source": [
        "First let's load in our required resources for data loading and model creation."
      ]
    },
    {
      "cell_type": "code",
      "metadata": {
        "id": "PIM1FDjNzfmZ",
        "colab_type": "code",
        "colab": {}
      },
      "source": [
        "import numpy as np\n",
        "import torch\n",
        "from torch import nn\n",
        "import torch.nn.functional as F"
      ],
      "execution_count": 0,
      "outputs": []
    },
    {
      "cell_type": "markdown",
      "metadata": {
        "id": "e82aL4C6zfmf",
        "colab_type": "text"
      },
      "source": [
        "## Load in Data\n",
        "\n",
        "Then, we'll load the Anna Karenina text file and convert it into integers for our network to use. "
      ]
    },
    {
      "cell_type": "code",
      "metadata": {
        "id": "bYuGoiobzfmh",
        "colab_type": "code",
        "colab": {}
      },
      "source": [
        "# open text file and read in data as `text`\n",
        "with open('anna.txt', 'r') as f:\n",
        "    text = f.read()"
      ],
      "execution_count": 0,
      "outputs": []
    },
    {
      "cell_type": "markdown",
      "metadata": {
        "id": "Bvj8doHwzfmq",
        "colab_type": "text"
      },
      "source": [
        "Let's check out the first 100 characters, make sure everything is peachy. According to the [American Book Review](http://americanbookreview.org/100bestlines.asp), this is the 6th best first line of a book ever."
      ]
    },
    {
      "cell_type": "code",
      "metadata": {
        "id": "a0xPaL7Lzfmr",
        "colab_type": "code",
        "colab": {
          "base_uri": "https://localhost:8080/",
          "height": 54
        },
        "outputId": "f3791816-11c7-4fa8-8778-3343b4d263d6"
      },
      "source": [
        "text[:100]"
      ],
      "execution_count": 3,
      "outputs": [
        {
          "output_type": "execute_result",
          "data": {
            "text/plain": [
              "'Chapter 1\\n\\n\\nHappy families are all alike; every unhappy family is unhappy in its own\\nway.\\n\\nEverythin'"
            ]
          },
          "metadata": {
            "tags": []
          },
          "execution_count": 3
        }
      ]
    },
    {
      "cell_type": "markdown",
      "metadata": {
        "id": "p-h2zSejzfmx",
        "colab_type": "text"
      },
      "source": [
        "### Tokenization\n",
        "\n",
        "In the cells, below, I'm creating a couple **dictionaries** to convert the characters to and from integers. Encoding the characters as integers makes it easier to use as input in the network."
      ]
    },
    {
      "cell_type": "code",
      "metadata": {
        "id": "KUEOjPQqzfmz",
        "colab_type": "code",
        "colab": {}
      },
      "source": [
        "# encode the text and map each character to an integer and vice versa\n",
        "\n",
        "# we create two dictionaries:\n",
        "# 1. int2char, which maps integers to characters\n",
        "# 2. char2int, which maps characters to unique integers\n",
        "chars = tuple(set(text))\n",
        "int2char = dict(enumerate(chars))\n",
        "char2int = {ch: ii for ii, ch in int2char.items()}\n",
        "\n",
        "# encode the text\n",
        "encoded = np.array([char2int[ch] for ch in text])"
      ],
      "execution_count": 0,
      "outputs": []
    },
    {
      "cell_type": "markdown",
      "metadata": {
        "id": "yJfzdtxEzfm6",
        "colab_type": "text"
      },
      "source": [
        "And we can see those same characters from above, encoded as integers."
      ]
    },
    {
      "cell_type": "code",
      "metadata": {
        "id": "5muAXnXTzfm8",
        "colab_type": "code",
        "colab": {
          "base_uri": "https://localhost:8080/",
          "height": 119
        },
        "outputId": "4c9d9f66-da09-4e5f-96df-b6beb3188733"
      },
      "source": [
        "encoded[:100]"
      ],
      "execution_count": 5,
      "outputs": [
        {
          "output_type": "execute_result",
          "data": {
            "text/plain": [
              "array([39, 41, 65, 81, 40,  6,  1, 42, 75,  0,  0,  0,  7, 65, 81, 81, 50,\n",
              "       42, 51, 65,  2, 32, 33, 32,  6, 19, 42, 65,  1,  6, 42, 65, 33, 33,\n",
              "       42, 65, 33, 32, 10,  6, 26, 42,  6, 16,  6,  1, 50, 42, 43, 59, 41,\n",
              "       65, 81, 81, 50, 42, 51, 65,  2, 32, 33, 50, 42, 32, 19, 42, 43, 59,\n",
              "       41, 65, 81, 81, 50, 42, 32, 59, 42, 32, 40, 19, 42, 25, 55, 59,  0,\n",
              "       55, 65, 50, 28,  0,  0, 18, 16,  6,  1, 50, 40, 41, 32, 59])"
            ]
          },
          "metadata": {
            "tags": []
          },
          "execution_count": 5
        }
      ]
    },
    {
      "cell_type": "markdown",
      "metadata": {
        "id": "NvpOiTQOzfnC",
        "colab_type": "text"
      },
      "source": [
        "## Pre-processing the data\n",
        "\n",
        "As you can see in our char-RNN image above, our LSTM expects an input that is **one-hot encoded** meaning that each character is converted into an integer (via our created dictionary) and *then* converted into a column vector where only it's corresponding integer index will have the value of 1 and the rest of the vector will be filled with 0's. Since we're one-hot encoding the data, let's make a function to do that!\n"
      ]
    },
    {
      "cell_type": "code",
      "metadata": {
        "id": "44gxfXC9zfnD",
        "colab_type": "code",
        "colab": {}
      },
      "source": [
        "def one_hot_encode(arr, n_labels):\n",
        "    \n",
        "    # Initialize the the encoded array\n",
        "    one_hot = np.zeros((arr.size, n_labels), dtype=np.float32)\n",
        "    \n",
        "    # Fill the appropriate elements with ones\n",
        "    one_hot[np.arange(one_hot.shape[0]), arr.flatten()] = 1.\n",
        "    \n",
        "    # Finally reshape it to get back to the original array\n",
        "    one_hot = one_hot.reshape((*arr.shape, n_labels))\n",
        "    \n",
        "    return one_hot"
      ],
      "execution_count": 0,
      "outputs": []
    },
    {
      "cell_type": "code",
      "metadata": {
        "id": "lzyF0xBnzfnI",
        "colab_type": "code",
        "colab": {
          "base_uri": "https://localhost:8080/",
          "height": 68
        },
        "outputId": "4ba4a598-2e38-45bb-fec0-8ca9704ddaf9"
      },
      "source": [
        "# check that the function works as expected\n",
        "test_seq = np.array([[3, 5, 1]])\n",
        "one_hot = one_hot_encode(test_seq, 8)\n",
        "\n",
        "print(one_hot)"
      ],
      "execution_count": 7,
      "outputs": [
        {
          "output_type": "stream",
          "text": [
            "[[[0. 0. 0. 1. 0. 0. 0. 0.]\n",
            "  [0. 0. 0. 0. 0. 1. 0. 0.]\n",
            "  [0. 1. 0. 0. 0. 0. 0. 0.]]]\n"
          ],
          "name": "stdout"
        }
      ]
    },
    {
      "cell_type": "markdown",
      "metadata": {
        "id": "Htp9oa6CzfnP",
        "colab_type": "text"
      },
      "source": [
        "## Making training mini-batches\n",
        "\n",
        "\n",
        "To train on this data, we also want to create mini-batches for training. Remember that we want our batches to be multiple sequences of some desired number of sequence steps. Considering a simple example, our batches would look like this:\n",
        "\n",
        "<img src=\"https://github.com/rifqiabidin/deep-learning-v2-pytorch/blob/master/recurrent-neural-networks/char-rnn/assets/sequence_batching@1x.png?raw=1\" width=500px>\n",
        "\n",
        "\n",
        "<br>\n",
        "\n",
        "In this example, we'll take the encoded characters (passed in as the `arr` parameter) and split them into multiple sequences, given by `batch_size`. Each of our sequences will be `seq_length` long.\n",
        "\n",
        "### Creating Batches\n",
        "\n",
        "**1. The first thing we need to do is discard some of the text so we only have completely full mini-batches. **\n",
        "\n",
        "Each batch contains $N \\times M$ characters, where $N$ is the batch size (the number of sequences in a batch) and $M$ is the seq_length or number of time steps in a sequence. Then, to get the total number of batches, $K$, that we can make from the array `arr`, you divide the length of `arr` by the number of characters per batch. Once you know the number of batches, you can get the total number of characters to keep from `arr`, $N * M * K$.\n",
        "\n",
        "**2. After that, we need to split `arr` into $N$ batches. ** \n",
        "\n",
        "You can do this using `arr.reshape(size)` where `size` is a tuple containing the dimensions sizes of the reshaped array. We know we want $N$ sequences in a batch, so let's make that the size of the first dimension. For the second dimension, you can use `-1` as a placeholder in the size, it'll fill up the array with the appropriate data for you. After this, you should have an array that is $N \\times (M * K)$.\n",
        "\n",
        "**3. Now that we have this array, we can iterate through it to get our mini-batches. **\n",
        "\n",
        "The idea is each batch is a $N \\times M$ window on the $N \\times (M * K)$ array. For each subsequent batch, the window moves over by `seq_length`. We also want to create both the input and target arrays. Remember that the targets are just the inputs shifted over by one character. The way I like to do this window is use `range` to take steps of size `n_steps` from $0$ to `arr.shape[1]`, the total number of tokens in each sequence. That way, the integers you get from `range` always point to the start of a batch, and each window is `seq_length` wide.\n",
        "\n",
        "> **TODO:** Write the code for creating batches in the function below. The exercises in this notebook _will not be easy_. I've provided a notebook with solutions alongside this notebook. If you get stuck, checkout the solutions. The most important thing is that you don't copy and paste the code into here, **type out the solution code yourself.**"
      ]
    },
    {
      "cell_type": "code",
      "metadata": {
        "id": "KvE-Jsz2zfnR",
        "colab_type": "code",
        "colab": {}
      },
      "source": [
        "def get_batches(arr, batch_size, seq_length):\n",
        "    '''Create a generator that returns batches of size\n",
        "       batch_size x seq_length from arr.\n",
        "       \n",
        "       Arguments\n",
        "       ---------\n",
        "       arr: Array you want to make batches from\n",
        "       batch_size: Batch size, the number of sequences per batch\n",
        "       seq_length: Number of encoded chars in a sequence\n",
        "    '''\n",
        "    \n",
        "    batch_size_total = batch_size * seq_length\n",
        "    # total number of batches we can make\n",
        "    n_batches = len(arr)//batch_size_total\n",
        "    \n",
        "    # Keep only enough characters to make full batches\n",
        "    arr = arr[:n_batches * batch_size_total]\n",
        "    # Reshape into batch_size rows\n",
        "    arr = arr.reshape((batch_size, -1))\n",
        "    \n",
        "    # iterate through the array, one sequence at a time\n",
        "    for n in range(0, arr.shape[1], seq_length):\n",
        "        # The features\n",
        "        x = arr[:, n:n+seq_length]\n",
        "        # The targets, shifted by one\n",
        "        y = np.zeros_like(x)\n",
        "        try:\n",
        "            y[:, :-1], y[:, -1] = x[:, 1:], arr[:, n+seq_length]\n",
        "        except IndexError:\n",
        "            y[:, :-1], y[:, -1] = x[:, 1:], arr[:, 0]\n",
        "        yield x, y"
      ],
      "execution_count": 0,
      "outputs": []
    },
    {
      "cell_type": "markdown",
      "metadata": {
        "id": "sw1mp_W1zfnX",
        "colab_type": "text"
      },
      "source": [
        "### Test Your Implementation\n",
        "\n",
        "Now I'll make some data sets and we can check out what's going on as we batch data. Here, as an example, I'm going to use a batch size of 8 and 50 sequence steps."
      ]
    },
    {
      "cell_type": "code",
      "metadata": {
        "id": "c_oCDs-pzfnZ",
        "colab_type": "code",
        "colab": {}
      },
      "source": [
        "batches = get_batches(encoded, 8, 50)\n",
        "x, y = next(batches)"
      ],
      "execution_count": 0,
      "outputs": []
    },
    {
      "cell_type": "code",
      "metadata": {
        "id": "2_g3EDO6zfnf",
        "colab_type": "code",
        "colab": {
          "base_uri": "https://localhost:8080/",
          "height": 340
        },
        "outputId": "b67131bb-98d0-4bd1-cfb0-b2fc7ff57d86"
      },
      "source": [
        "# printing out the first 10 items in a sequence\n",
        "print('x\\n', x[:10, :10])\n",
        "print('\\ny\\n', y[:10, :10])"
      ],
      "execution_count": 16,
      "outputs": [
        {
          "output_type": "stream",
          "text": [
            "x\n",
            " [[39 41 65 81 40  6  1 42 75  0]\n",
            " [19 25 59 42 40 41 65 40 42 65]\n",
            " [ 6 59  4 42 25  1 42 65 42 51]\n",
            " [19 42 40 41  6 42 52 41 32  6]\n",
            " [42 19 65 55 42 41  6  1 42 40]\n",
            " [52 43 19 19 32 25 59 42 65 59]\n",
            " [42 22 59 59 65 42 41 65  4 42]\n",
            " [78 30 33 25 59 19 10 50 28 42]]\n",
            "\n",
            "y\n",
            " [[41 65 81 40  6  1 42 75  0  0]\n",
            " [25 59 42 40 41 65 40 42 65 40]\n",
            " [59  4 42 25  1 42 65 42 51 25]\n",
            " [42 40 41  6 42 52 41 32  6 51]\n",
            " [19 65 55 42 41  6  1 42 40  6]\n",
            " [43 19 19 32 25 59 42 65 59  4]\n",
            " [22 59 59 65 42 41 65  4 42 19]\n",
            " [30 33 25 59 19 10 50 28 42 36]]\n"
          ],
          "name": "stdout"
        }
      ]
    },
    {
      "cell_type": "markdown",
      "metadata": {
        "id": "0h-xwevQzfnl",
        "colab_type": "text"
      },
      "source": [
        "If you implemented `get_batches` correctly, the above output should look something like \n",
        "```\n",
        "x\n",
        " [[25  8 60 11 45 27 28 73  1  2]\n",
        " [17  7 20 73 45  8 60 45 73 60]\n",
        " [27 20 80 73  7 28 73 60 73 65]\n",
        " [17 73 45  8 27 73 66  8 46 27]\n",
        " [73 17 60 12 73  8 27 28 73 45]\n",
        " [66 64 17 17 46  7 20 73 60 20]\n",
        " [73 76 20 20 60 73  8 60 80 73]\n",
        " [47 35 43  7 20 17 24 50 37 73]]\n",
        "\n",
        "y\n",
        " [[ 8 60 11 45 27 28 73  1  2  2]\n",
        " [ 7 20 73 45  8 60 45 73 60 45]\n",
        " [20 80 73  7 28 73 60 73 65  7]\n",
        " [73 45  8 27 73 66  8 46 27 65]\n",
        " [17 60 12 73  8 27 28 73 45 27]\n",
        " [64 17 17 46  7 20 73 60 20 80]\n",
        " [76 20 20 60 73  8 60 80 73 17]\n",
        " [35 43  7 20 17 24 50 37 73 36]]\n",
        " ```\n",
        " although the exact numbers may be different. Check to make sure the data is shifted over one step for `y`."
      ]
    },
    {
      "cell_type": "markdown",
      "metadata": {
        "id": "hB8m6Byazfnn",
        "colab_type": "text"
      },
      "source": [
        "---\n",
        "## Defining the network with PyTorch\n",
        "\n",
        "Below is where you'll define the network.\n",
        "\n",
        "<img src=\"https://github.com/rifqiabidin/deep-learning-v2-pytorch/blob/master/recurrent-neural-networks/char-rnn/assets/charRNN.png?raw=1\" width=500px>\n",
        "\n",
        "Next, you'll use PyTorch to define the architecture of the network. We start by defining the layers and operations we want. Then, define a method for the forward pass. You've also been given a method for predicting characters."
      ]
    },
    {
      "cell_type": "markdown",
      "metadata": {
        "id": "ccM5tzH9zfnq",
        "colab_type": "text"
      },
      "source": [
        "### Model Structure\n",
        "\n",
        "In `__init__` the suggested structure is as follows:\n",
        "* Create and store the necessary dictionaries (this has been done for you)\n",
        "* Define an LSTM layer that takes as params: an input size (the number of characters), a hidden layer size `n_hidden`, a number of layers `n_layers`, a dropout probability `drop_prob`, and a batch_first boolean (True, since we are batching)\n",
        "* Define a dropout layer with `drop_prob`\n",
        "* Define a fully-connected layer with params: input size `n_hidden` and output size (the number of characters)\n",
        "* Finally, initialize the weights (again, this has been given)\n",
        "\n",
        "Note that some parameters have been named and given in the `__init__` function, and we use them and store them by doing something like `self.drop_prob = drop_prob`."
      ]
    },
    {
      "cell_type": "markdown",
      "metadata": {
        "id": "yviFKvF_zfns",
        "colab_type": "text"
      },
      "source": [
        "---\n",
        "### LSTM Inputs/Outputs\n",
        "\n",
        "You can create a basic [LSTM layer](https://pytorch.org/docs/stable/nn.html#lstm) as follows\n",
        "\n",
        "```python\n",
        "self.lstm = nn.LSTM(input_size, n_hidden, n_layers, \n",
        "                            dropout=drop_prob, batch_first=True)\n",
        "```\n",
        "\n",
        "where `input_size` is the number of characters this cell expects to see as sequential input, and `n_hidden` is the number of units in the hidden layers in the cell. And we can add dropout by adding a dropout parameter with a specified probability; this will automatically add dropout to the inputs or outputs. Finally, in the `forward` function, we can stack up the LSTM cells into layers using `.view`. With this, you pass in a list of cells and it will send the output of one cell into the next cell.\n",
        "\n",
        "We also need to create an initial hidden state of all zeros. This is done like so\n",
        "\n",
        "```python\n",
        "self.init_hidden()\n",
        "```"
      ]
    },
    {
      "cell_type": "code",
      "metadata": {
        "id": "4iatd6Pdzfnv",
        "colab_type": "code",
        "colab": {
          "base_uri": "https://localhost:8080/",
          "height": 34
        },
        "outputId": "81d62f7e-a24a-4f91-fb8d-d670067c5fa4"
      },
      "source": [
        "# check if GPU is available\n",
        "train_on_gpu = torch.cuda.is_available()\n",
        "if(train_on_gpu):\n",
        "    print('Training on GPU!')\n",
        "else: \n",
        "    print('No GPU available, training on CPU; consider making n_epochs very small.')"
      ],
      "execution_count": 17,
      "outputs": [
        {
          "output_type": "stream",
          "text": [
            "Training on GPU!\n"
          ],
          "name": "stdout"
        }
      ]
    },
    {
      "cell_type": "code",
      "metadata": {
        "id": "RdwDqeYBzfn3",
        "colab_type": "code",
        "colab": {}
      },
      "source": [
        "class CharRNN(nn.Module):\n",
        "    \n",
        "    def __init__(self, tokens, n_hidden=256, n_layers=2,\n",
        "                               drop_prob=0.5, lr=0.001):\n",
        "        super().__init__()\n",
        "        self.drop_prob = drop_prob\n",
        "        self.n_layers = n_layers\n",
        "        self.n_hidden = n_hidden\n",
        "        self.lr = lr\n",
        "        \n",
        "        # creating character dictionaries\n",
        "        self.chars = tokens\n",
        "        self.int2char = dict(enumerate(self.chars))\n",
        "        self.char2int = {ch: ii for ii, ch in self.int2char.items()}\n",
        "        \n",
        "        ## TODO: define the layers of the model\n",
        "        self.lstm = nn.LSTM(len(self.chars), n_hidden, n_layers, dropout=drop_prob, batch_first=True)\n",
        "        self.dropout = nn.Dropout(drop_prob)\n",
        "        self.fc = nn.Linear(n_hidden, len(self.chars))\n",
        "    \n",
        "    def forward(self, x, hidden):\n",
        "        ''' Forward pass through the network. \n",
        "            These inputs are x, and the hidden/cell state `hidden`. '''\n",
        "                \n",
        "        ## TODO: Get the outputs and the new hidden state from the lstm\n",
        "        r_output, hidden = self.lstm(x, hidden)\n",
        "        out = self.dropout(r_output)\n",
        "        out = out.contiguous().view(-1, self.n_hidden)\n",
        "        out = self.fc(out)\n",
        "        # return the final output and the hidden state\n",
        "        return out, hidden\n",
        "    \n",
        "    \n",
        "    def init_hidden(self, batch_size):\n",
        "        ''' Initializes hidden state '''\n",
        "        # Create two new tensors with sizes n_layers x batch_size x n_hidden,\n",
        "        # initialized to zero, for hidden state and cell state of LSTM\n",
        "        weight = next(self.parameters()).data\n",
        "        \n",
        "        if (train_on_gpu):\n",
        "            hidden = (weight.new(self.n_layers, batch_size, self.n_hidden).zero_().cuda(),\n",
        "                  weight.new(self.n_layers, batch_size, self.n_hidden).zero_().cuda())\n",
        "        else:\n",
        "            hidden = (weight.new(self.n_layers, batch_size, self.n_hidden).zero_(),\n",
        "                      weight.new(self.n_layers, batch_size, self.n_hidden).zero_())\n",
        "        \n",
        "        return hidden\n",
        "        "
      ],
      "execution_count": 0,
      "outputs": []
    },
    {
      "cell_type": "markdown",
      "metadata": {
        "id": "EGIT_mP5zfn8",
        "colab_type": "text"
      },
      "source": [
        "## Time to train\n",
        "\n",
        "The train function gives us the ability to set the number of epochs, the learning rate, and other parameters.\n",
        "\n",
        "Below we're using an Adam optimizer and cross entropy loss since we are looking at character class scores as output. We calculate the loss and perform backpropagation, as usual!\n",
        "\n",
        "A couple of details about training: \n",
        ">* Within the batch loop, we detach the hidden state from its history; this time setting it equal to a new *tuple* variable because an LSTM has a hidden state that is a tuple of the hidden and cell states.\n",
        "* We use [`clip_grad_norm_`](https://pytorch.org/docs/stable/_modules/torch/nn/utils/clip_grad.html) to help prevent exploding gradients."
      ]
    },
    {
      "cell_type": "code",
      "metadata": {
        "id": "Zm4ezU15zfn9",
        "colab_type": "code",
        "colab": {}
      },
      "source": [
        "def train(net, data, epochs=10, batch_size=10, seq_length=50, lr=0.001, clip=5, val_frac=0.1, print_every=10):\n",
        "    ''' Training a network \n",
        "    \n",
        "        Arguments\n",
        "        ---------\n",
        "        \n",
        "        net: CharRNN network\n",
        "        data: text data to train the network\n",
        "        epochs: Number of epochs to train\n",
        "        batch_size: Number of mini-sequences per mini-batch, aka batch size\n",
        "        seq_length: Number of character steps per mini-batch\n",
        "        lr: learning rate\n",
        "        clip: gradient clipping\n",
        "        val_frac: Fraction of data to hold out for validation\n",
        "        print_every: Number of steps for printing training and validation loss\n",
        "    \n",
        "    '''\n",
        "    net.train()\n",
        "    \n",
        "    opt = torch.optim.Adam(net.parameters(), lr=lr)\n",
        "    criterion = nn.CrossEntropyLoss()\n",
        "    \n",
        "    # create training and validation data\n",
        "    val_idx = int(len(data)*(1-val_frac))\n",
        "    data, val_data = data[:val_idx], data[val_idx:]\n",
        "    \n",
        "    if(train_on_gpu):\n",
        "        net.cuda()\n",
        "    \n",
        "    counter = 0\n",
        "    n_chars = len(net.chars)\n",
        "    for e in range(epochs):\n",
        "        # initialize hidden state\n",
        "        h = net.init_hidden(batch_size)\n",
        "        \n",
        "        for x, y in get_batches(data, batch_size, seq_length):\n",
        "            counter += 1\n",
        "            \n",
        "            # One-hot encode our data and make them Torch tensors\n",
        "            x = one_hot_encode(x, n_chars)\n",
        "            inputs, targets = torch.from_numpy(x), torch.from_numpy(y)\n",
        "            \n",
        "            if(train_on_gpu):\n",
        "                inputs, targets = inputs.cuda(), targets.cuda()\n",
        "\n",
        "            # Creating new variables for the hidden state, otherwise\n",
        "            # we'd backprop through the entire training history\n",
        "            h = tuple([each.data for each in h])\n",
        "\n",
        "            # zero accumulated gradients\n",
        "            net.zero_grad()\n",
        "            \n",
        "            # get the output from the model\n",
        "            output, h = net(inputs, h)\n",
        "            \n",
        "            # calculate the loss and perform backprop\n",
        "            loss = criterion(output, targets.view(batch_size*seq_length).long())\n",
        "            loss.backward()\n",
        "            # `clip_grad_norm` helps prevent the exploding gradient problem in RNNs / LSTMs.\n",
        "            nn.utils.clip_grad_norm_(net.parameters(), clip)\n",
        "            opt.step()\n",
        "            \n",
        "            # loss stats\n",
        "            if counter % print_every == 0:\n",
        "                # Get validation loss\n",
        "                val_h = net.init_hidden(batch_size)\n",
        "                val_losses = []\n",
        "                net.eval()\n",
        "                for x, y in get_batches(val_data, batch_size, seq_length):\n",
        "                    # One-hot encode our data and make them Torch tensors\n",
        "                    x = one_hot_encode(x, n_chars)\n",
        "                    x, y = torch.from_numpy(x), torch.from_numpy(y)\n",
        "                    \n",
        "                    # Creating new variables for the hidden state, otherwise\n",
        "                    # we'd backprop through the entire training history\n",
        "                    val_h = tuple([each.data for each in val_h])\n",
        "                    \n",
        "                    inputs, targets = x, y\n",
        "                    if(train_on_gpu):\n",
        "                        inputs, targets = inputs.cuda(), targets.cuda()\n",
        "\n",
        "                    output, val_h = net(inputs, val_h)\n",
        "                    val_loss = criterion(output, targets.view(batch_size*seq_length).long())\n",
        "                \n",
        "                    val_losses.append(val_loss.item())\n",
        "                \n",
        "                net.train() # reset to train mode after iterationg through validation data\n",
        "                \n",
        "                print(\"Epoch: {}/{}...\".format(e+1, epochs),\n",
        "                      \"Step: {}...\".format(counter),\n",
        "                      \"Loss: {:.4f}...\".format(loss.item()),\n",
        "                      \"Val Loss: {:.4f}\".format(np.mean(val_losses)))"
      ],
      "execution_count": 0,
      "outputs": []
    },
    {
      "cell_type": "markdown",
      "metadata": {
        "id": "2jb60YQTzfoC",
        "colab_type": "text"
      },
      "source": [
        "## Instantiating the model\n",
        "\n",
        "Now we can actually train the network. First we'll create the network itself, with some given hyperparameters. Then, define the mini-batches sizes, and start training!"
      ]
    },
    {
      "cell_type": "code",
      "metadata": {
        "id": "hAe3jFcvzfoD",
        "colab_type": "code",
        "colab": {
          "base_uri": "https://localhost:8080/",
          "height": 102
        },
        "outputId": "d4254050-e1c9-453c-dd45-66d3669051eb"
      },
      "source": [
        "## TODO: set your model hyperparameters\n",
        "# define and print the net\n",
        "n_hidden=512\n",
        "n_layers=2\n",
        "\n",
        "net = CharRNN(chars, n_hidden, n_layers)\n",
        "print(net)"
      ],
      "execution_count": 20,
      "outputs": [
        {
          "output_type": "stream",
          "text": [
            "CharRNN(\n",
            "  (lstm): LSTM(83, 512, num_layers=2, batch_first=True, dropout=0.5)\n",
            "  (dropout): Dropout(p=0.5, inplace=False)\n",
            "  (fc): Linear(in_features=512, out_features=83, bias=True)\n",
            ")\n"
          ],
          "name": "stdout"
        }
      ]
    },
    {
      "cell_type": "markdown",
      "metadata": {
        "id": "IlqdDzn1zfoI",
        "colab_type": "text"
      },
      "source": [
        "### Set your training hyperparameters!"
      ]
    },
    {
      "cell_type": "code",
      "metadata": {
        "scrolled": true,
        "id": "3SWkkB_ZzfoJ",
        "colab_type": "code",
        "colab": {
          "base_uri": "https://localhost:8080/",
          "height": 1000
        },
        "outputId": "9ab1a817-bd5f-4aad-a13a-02271c0e25bd"
      },
      "source": [
        "batch_size = 128\n",
        "seq_length = 100\n",
        "n_epochs = 15  # start small if you are just testing initial behavior\n",
        "\n",
        "# train the model\n",
        "train(net, encoded, epochs=n_epochs, batch_size=batch_size, seq_length=seq_length, lr=0.001, print_every=10)"
      ],
      "execution_count": 21,
      "outputs": [
        {
          "output_type": "stream",
          "text": [
            "Epoch: 1/15... Step: 10... Loss: 3.2736... Val Loss: 3.1904\n",
            "Epoch: 1/15... Step: 20... Loss: 3.1487... Val Loss: 3.1303\n",
            "Epoch: 1/15... Step: 30... Loss: 3.1424... Val Loss: 3.1208\n",
            "Epoch: 1/15... Step: 40... Loss: 3.1113... Val Loss: 3.1197\n",
            "Epoch: 1/15... Step: 50... Loss: 3.1434... Val Loss: 3.1183\n",
            "Epoch: 1/15... Step: 60... Loss: 3.1193... Val Loss: 3.1160\n",
            "Epoch: 1/15... Step: 70... Loss: 3.1083... Val Loss: 3.1147\n",
            "Epoch: 1/15... Step: 80... Loss: 3.1259... Val Loss: 3.1114\n",
            "Epoch: 1/15... Step: 90... Loss: 3.1188... Val Loss: 3.1039\n",
            "Epoch: 1/15... Step: 100... Loss: 3.0989... Val Loss: 3.0891\n",
            "Epoch: 1/15... Step: 110... Loss: 3.0716... Val Loss: 3.0528\n",
            "Epoch: 1/15... Step: 120... Loss: 2.9847... Val Loss: 2.9838\n",
            "Epoch: 1/15... Step: 130... Loss: 2.9074... Val Loss: 2.8752\n",
            "Epoch: 2/15... Step: 140... Loss: 2.8313... Val Loss: 2.7882\n",
            "Epoch: 2/15... Step: 150... Loss: 2.7268... Val Loss: 2.6759\n",
            "Epoch: 2/15... Step: 160... Loss: 2.6247... Val Loss: 2.5863\n",
            "Epoch: 2/15... Step: 170... Loss: 2.5393... Val Loss: 2.5223\n",
            "Epoch: 2/15... Step: 180... Loss: 2.4935... Val Loss: 2.4665\n",
            "Epoch: 2/15... Step: 190... Loss: 2.4445... Val Loss: 2.4262\n",
            "Epoch: 2/15... Step: 200... Loss: 2.4344... Val Loss: 2.4072\n",
            "Epoch: 2/15... Step: 210... Loss: 2.3998... Val Loss: 2.3715\n",
            "Epoch: 2/15... Step: 220... Loss: 2.3593... Val Loss: 2.3382\n",
            "Epoch: 2/15... Step: 230... Loss: 2.3462... Val Loss: 2.3181\n",
            "Epoch: 2/15... Step: 240... Loss: 2.3347... Val Loss: 2.2916\n",
            "Epoch: 2/15... Step: 250... Loss: 2.2653... Val Loss: 2.2660\n",
            "Epoch: 2/15... Step: 260... Loss: 2.2385... Val Loss: 2.2368\n",
            "Epoch: 2/15... Step: 270... Loss: 2.2430... Val Loss: 2.2117\n",
            "Epoch: 3/15... Step: 280... Loss: 2.2340... Val Loss: 2.1885\n",
            "Epoch: 3/15... Step: 290... Loss: 2.1961... Val Loss: 2.1676\n",
            "Epoch: 3/15... Step: 300... Loss: 2.1848... Val Loss: 2.1459\n",
            "Epoch: 3/15... Step: 310... Loss: 2.1564... Val Loss: 2.1282\n",
            "Epoch: 3/15... Step: 320... Loss: 2.1308... Val Loss: 2.1044\n",
            "Epoch: 3/15... Step: 330... Loss: 2.0916... Val Loss: 2.0893\n",
            "Epoch: 3/15... Step: 340... Loss: 2.1143... Val Loss: 2.0692\n",
            "Epoch: 3/15... Step: 350... Loss: 2.0994... Val Loss: 2.0583\n",
            "Epoch: 3/15... Step: 360... Loss: 2.0267... Val Loss: 2.0341\n",
            "Epoch: 3/15... Step: 370... Loss: 2.0558... Val Loss: 2.0173\n",
            "Epoch: 3/15... Step: 380... Loss: 2.0269... Val Loss: 2.0003\n",
            "Epoch: 3/15... Step: 390... Loss: 2.0060... Val Loss: 1.9885\n",
            "Epoch: 3/15... Step: 400... Loss: 1.9708... Val Loss: 1.9695\n",
            "Epoch: 3/15... Step: 410... Loss: 1.9925... Val Loss: 1.9595\n",
            "Epoch: 4/15... Step: 420... Loss: 1.9775... Val Loss: 1.9470\n",
            "Epoch: 4/15... Step: 430... Loss: 1.9627... Val Loss: 1.9330\n",
            "Epoch: 4/15... Step: 440... Loss: 1.9568... Val Loss: 1.9190\n",
            "Epoch: 4/15... Step: 450... Loss: 1.8863... Val Loss: 1.9024\n",
            "Epoch: 4/15... Step: 460... Loss: 1.8836... Val Loss: 1.8960\n",
            "Epoch: 4/15... Step: 470... Loss: 1.9115... Val Loss: 1.8833\n",
            "Epoch: 4/15... Step: 480... Loss: 1.8991... Val Loss: 1.8683\n",
            "Epoch: 4/15... Step: 490... Loss: 1.8901... Val Loss: 1.8582\n",
            "Epoch: 4/15... Step: 500... Loss: 1.8920... Val Loss: 1.8467\n",
            "Epoch: 4/15... Step: 510... Loss: 1.8661... Val Loss: 1.8370\n",
            "Epoch: 4/15... Step: 520... Loss: 1.8775... Val Loss: 1.8274\n",
            "Epoch: 4/15... Step: 530... Loss: 1.8395... Val Loss: 1.8159\n",
            "Epoch: 4/15... Step: 540... Loss: 1.7991... Val Loss: 1.8020\n",
            "Epoch: 4/15... Step: 550... Loss: 1.8475... Val Loss: 1.7923\n",
            "Epoch: 5/15... Step: 560... Loss: 1.8131... Val Loss: 1.7841\n",
            "Epoch: 5/15... Step: 570... Loss: 1.8017... Val Loss: 1.7751\n",
            "Epoch: 5/15... Step: 580... Loss: 1.7785... Val Loss: 1.7669\n",
            "Epoch: 5/15... Step: 590... Loss: 1.7831... Val Loss: 1.7572\n",
            "Epoch: 5/15... Step: 600... Loss: 1.7640... Val Loss: 1.7490\n",
            "Epoch: 5/15... Step: 610... Loss: 1.7455... Val Loss: 1.7406\n",
            "Epoch: 5/15... Step: 620... Loss: 1.7600... Val Loss: 1.7351\n",
            "Epoch: 5/15... Step: 630... Loss: 1.7637... Val Loss: 1.7269\n",
            "Epoch: 5/15... Step: 640... Loss: 1.7374... Val Loss: 1.7178\n",
            "Epoch: 5/15... Step: 650... Loss: 1.7210... Val Loss: 1.7091\n",
            "Epoch: 5/15... Step: 660... Loss: 1.7022... Val Loss: 1.7007\n",
            "Epoch: 5/15... Step: 670... Loss: 1.7255... Val Loss: 1.6958\n",
            "Epoch: 5/15... Step: 680... Loss: 1.7259... Val Loss: 1.6873\n",
            "Epoch: 5/15... Step: 690... Loss: 1.6987... Val Loss: 1.6823\n",
            "Epoch: 6/15... Step: 700... Loss: 1.6974... Val Loss: 1.6759\n",
            "Epoch: 6/15... Step: 710... Loss: 1.6864... Val Loss: 1.6691\n",
            "Epoch: 6/15... Step: 720... Loss: 1.6731... Val Loss: 1.6598\n",
            "Epoch: 6/15... Step: 730... Loss: 1.6843... Val Loss: 1.6525\n",
            "Epoch: 6/15... Step: 740... Loss: 1.6529... Val Loss: 1.6479\n",
            "Epoch: 6/15... Step: 750... Loss: 1.6373... Val Loss: 1.6421\n",
            "Epoch: 6/15... Step: 760... Loss: 1.6731... Val Loss: 1.6362\n",
            "Epoch: 6/15... Step: 770... Loss: 1.6589... Val Loss: 1.6328\n",
            "Epoch: 6/15... Step: 780... Loss: 1.6338... Val Loss: 1.6230\n",
            "Epoch: 6/15... Step: 790... Loss: 1.6312... Val Loss: 1.6196\n",
            "Epoch: 6/15... Step: 800... Loss: 1.6312... Val Loss: 1.6152\n",
            "Epoch: 6/15... Step: 810... Loss: 1.6278... Val Loss: 1.6099\n",
            "Epoch: 6/15... Step: 820... Loss: 1.5869... Val Loss: 1.6045\n",
            "Epoch: 6/15... Step: 830... Loss: 1.6436... Val Loss: 1.5991\n",
            "Epoch: 7/15... Step: 840... Loss: 1.5895... Val Loss: 1.5950\n",
            "Epoch: 7/15... Step: 850... Loss: 1.6040... Val Loss: 1.5883\n",
            "Epoch: 7/15... Step: 860... Loss: 1.5919... Val Loss: 1.5837\n",
            "Epoch: 7/15... Step: 870... Loss: 1.5975... Val Loss: 1.5766\n",
            "Epoch: 7/15... Step: 880... Loss: 1.6005... Val Loss: 1.5737\n",
            "Epoch: 7/15... Step: 890... Loss: 1.5938... Val Loss: 1.5722\n",
            "Epoch: 7/15... Step: 900... Loss: 1.5720... Val Loss: 1.5663\n",
            "Epoch: 7/15... Step: 910... Loss: 1.5448... Val Loss: 1.5633\n",
            "Epoch: 7/15... Step: 920... Loss: 1.5644... Val Loss: 1.5554\n",
            "Epoch: 7/15... Step: 930... Loss: 1.5492... Val Loss: 1.5534\n",
            "Epoch: 7/15... Step: 940... Loss: 1.5592... Val Loss: 1.5512\n",
            "Epoch: 7/15... Step: 950... Loss: 1.5726... Val Loss: 1.5462\n",
            "Epoch: 7/15... Step: 960... Loss: 1.5621... Val Loss: 1.5449\n",
            "Epoch: 7/15... Step: 970... Loss: 1.5810... Val Loss: 1.5414\n",
            "Epoch: 8/15... Step: 980... Loss: 1.5452... Val Loss: 1.5376\n",
            "Epoch: 8/15... Step: 990... Loss: 1.5450... Val Loss: 1.5281\n",
            "Epoch: 8/15... Step: 1000... Loss: 1.5261... Val Loss: 1.5256\n",
            "Epoch: 8/15... Step: 1010... Loss: 1.5726... Val Loss: 1.5244\n",
            "Epoch: 8/15... Step: 1020... Loss: 1.5332... Val Loss: 1.5192\n",
            "Epoch: 8/15... Step: 1030... Loss: 1.5203... Val Loss: 1.5183\n",
            "Epoch: 8/15... Step: 1040... Loss: 1.5313... Val Loss: 1.5134\n",
            "Epoch: 8/15... Step: 1050... Loss: 1.5130... Val Loss: 1.5100\n",
            "Epoch: 8/15... Step: 1060... Loss: 1.5121... Val Loss: 1.5072\n",
            "Epoch: 8/15... Step: 1070... Loss: 1.5183... Val Loss: 1.5040\n",
            "Epoch: 8/15... Step: 1080... Loss: 1.5126... Val Loss: 1.5017\n",
            "Epoch: 8/15... Step: 1090... Loss: 1.4999... Val Loss: 1.4983\n",
            "Epoch: 8/15... Step: 1100... Loss: 1.4969... Val Loss: 1.4940\n",
            "Epoch: 8/15... Step: 1110... Loss: 1.4962... Val Loss: 1.4904\n",
            "Epoch: 9/15... Step: 1120... Loss: 1.5117... Val Loss: 1.4925\n",
            "Epoch: 9/15... Step: 1130... Loss: 1.5069... Val Loss: 1.4873\n",
            "Epoch: 9/15... Step: 1140... Loss: 1.5021... Val Loss: 1.4799\n",
            "Epoch: 9/15... Step: 1150... Loss: 1.5079... Val Loss: 1.4824\n",
            "Epoch: 9/15... Step: 1160... Loss: 1.4758... Val Loss: 1.4793\n",
            "Epoch: 9/15... Step: 1170... Loss: 1.4903... Val Loss: 1.4746\n",
            "Epoch: 9/15... Step: 1180... Loss: 1.4652... Val Loss: 1.4725\n",
            "Epoch: 9/15... Step: 1190... Loss: 1.4938... Val Loss: 1.4697\n",
            "Epoch: 9/15... Step: 1200... Loss: 1.4518... Val Loss: 1.4662\n",
            "Epoch: 9/15... Step: 1210... Loss: 1.4629... Val Loss: 1.4623\n",
            "Epoch: 9/15... Step: 1220... Loss: 1.4678... Val Loss: 1.4618\n",
            "Epoch: 9/15... Step: 1230... Loss: 1.4406... Val Loss: 1.4579\n",
            "Epoch: 9/15... Step: 1240... Loss: 1.4463... Val Loss: 1.4541\n",
            "Epoch: 9/15... Step: 1250... Loss: 1.4632... Val Loss: 1.4550\n",
            "Epoch: 10/15... Step: 1260... Loss: 1.4535... Val Loss: 1.4543\n",
            "Epoch: 10/15... Step: 1270... Loss: 1.4628... Val Loss: 1.4486\n",
            "Epoch: 10/15... Step: 1280... Loss: 1.4724... Val Loss: 1.4475\n",
            "Epoch: 10/15... Step: 1290... Loss: 1.4566... Val Loss: 1.4486\n",
            "Epoch: 10/15... Step: 1300... Loss: 1.4491... Val Loss: 1.4426\n",
            "Epoch: 10/15... Step: 1310... Loss: 1.4542... Val Loss: 1.4428\n",
            "Epoch: 10/15... Step: 1320... Loss: 1.4247... Val Loss: 1.4399\n",
            "Epoch: 10/15... Step: 1330... Loss: 1.4305... Val Loss: 1.4412\n",
            "Epoch: 10/15... Step: 1340... Loss: 1.4244... Val Loss: 1.4352\n",
            "Epoch: 10/15... Step: 1350... Loss: 1.4151... Val Loss: 1.4336\n",
            "Epoch: 10/15... Step: 1360... Loss: 1.4247... Val Loss: 1.4327\n",
            "Epoch: 10/15... Step: 1370... Loss: 1.3993... Val Loss: 1.4282\n",
            "Epoch: 10/15... Step: 1380... Loss: 1.4422... Val Loss: 1.4261\n",
            "Epoch: 10/15... Step: 1390... Loss: 1.4508... Val Loss: 1.4271\n",
            "Epoch: 11/15... Step: 1400... Loss: 1.4543... Val Loss: 1.4266\n",
            "Epoch: 11/15... Step: 1410... Loss: 1.4576... Val Loss: 1.4214\n",
            "Epoch: 11/15... Step: 1420... Loss: 1.4467... Val Loss: 1.4199\n",
            "Epoch: 11/15... Step: 1430... Loss: 1.4131... Val Loss: 1.4211\n",
            "Epoch: 11/15... Step: 1440... Loss: 1.4385... Val Loss: 1.4184\n",
            "Epoch: 11/15... Step: 1450... Loss: 1.3643... Val Loss: 1.4173\n",
            "Epoch: 11/15... Step: 1460... Loss: 1.3972... Val Loss: 1.4155\n",
            "Epoch: 11/15... Step: 1470... Loss: 1.3865... Val Loss: 1.4153\n",
            "Epoch: 11/15... Step: 1480... Loss: 1.4090... Val Loss: 1.4100\n",
            "Epoch: 11/15... Step: 1490... Loss: 1.4030... Val Loss: 1.4066\n",
            "Epoch: 11/15... Step: 1500... Loss: 1.3863... Val Loss: 1.4087\n",
            "Epoch: 11/15... Step: 1510... Loss: 1.3688... Val Loss: 1.4053\n",
            "Epoch: 11/15... Step: 1520... Loss: 1.4074... Val Loss: 1.4022\n",
            "Epoch: 12/15... Step: 1530... Loss: 1.4554... Val Loss: 1.4029\n",
            "Epoch: 12/15... Step: 1540... Loss: 1.4170... Val Loss: 1.4003\n",
            "Epoch: 12/15... Step: 1550... Loss: 1.4144... Val Loss: 1.3982\n",
            "Epoch: 12/15... Step: 1560... Loss: 1.4277... Val Loss: 1.3970\n",
            "Epoch: 12/15... Step: 1570... Loss: 1.3707... Val Loss: 1.3967\n",
            "Epoch: 12/15... Step: 1580... Loss: 1.3547... Val Loss: 1.3930\n",
            "Epoch: 12/15... Step: 1590... Loss: 1.3426... Val Loss: 1.3951\n",
            "Epoch: 12/15... Step: 1600... Loss: 1.3771... Val Loss: 1.3933\n",
            "Epoch: 12/15... Step: 1610... Loss: 1.3633... Val Loss: 1.3928\n",
            "Epoch: 12/15... Step: 1620... Loss: 1.3626... Val Loss: 1.3874\n",
            "Epoch: 12/15... Step: 1630... Loss: 1.3849... Val Loss: 1.3900\n",
            "Epoch: 12/15... Step: 1640... Loss: 1.3592... Val Loss: 1.3919\n",
            "Epoch: 12/15... Step: 1650... Loss: 1.3349... Val Loss: 1.3864\n",
            "Epoch: 12/15... Step: 1660... Loss: 1.3969... Val Loss: 1.3845\n",
            "Epoch: 13/15... Step: 1670... Loss: 1.3720... Val Loss: 1.3870\n",
            "Epoch: 13/15... Step: 1680... Loss: 1.3758... Val Loss: 1.3825\n",
            "Epoch: 13/15... Step: 1690... Loss: 1.3486... Val Loss: 1.3784\n",
            "Epoch: 13/15... Step: 1700... Loss: 1.3589... Val Loss: 1.3787\n",
            "Epoch: 13/15... Step: 1710... Loss: 1.3355... Val Loss: 1.3763\n",
            "Epoch: 13/15... Step: 1720... Loss: 1.3441... Val Loss: 1.3775\n",
            "Epoch: 13/15... Step: 1730... Loss: 1.3761... Val Loss: 1.3745\n",
            "Epoch: 13/15... Step: 1740... Loss: 1.3494... Val Loss: 1.3767\n",
            "Epoch: 13/15... Step: 1750... Loss: 1.3213... Val Loss: 1.3758\n",
            "Epoch: 13/15... Step: 1760... Loss: 1.3418... Val Loss: 1.3728\n",
            "Epoch: 13/15... Step: 1770... Loss: 1.3567... Val Loss: 1.3694\n",
            "Epoch: 13/15... Step: 1780... Loss: 1.3419... Val Loss: 1.3704\n",
            "Epoch: 13/15... Step: 1790... Loss: 1.3312... Val Loss: 1.3678\n",
            "Epoch: 13/15... Step: 1800... Loss: 1.3593... Val Loss: 1.3659\n",
            "Epoch: 14/15... Step: 1810... Loss: 1.3488... Val Loss: 1.3715\n",
            "Epoch: 14/15... Step: 1820... Loss: 1.3452... Val Loss: 1.3656\n",
            "Epoch: 14/15... Step: 1830... Loss: 1.3582... Val Loss: 1.3610\n",
            "Epoch: 14/15... Step: 1840... Loss: 1.2990... Val Loss: 1.3634\n",
            "Epoch: 14/15... Step: 1850... Loss: 1.2821... Val Loss: 1.3624\n",
            "Epoch: 14/15... Step: 1860... Loss: 1.3522... Val Loss: 1.3614\n",
            "Epoch: 14/15... Step: 1870... Loss: 1.3491... Val Loss: 1.3591\n",
            "Epoch: 14/15... Step: 1880... Loss: 1.3457... Val Loss: 1.3618\n",
            "Epoch: 14/15... Step: 1890... Loss: 1.3639... Val Loss: 1.3591\n",
            "Epoch: 14/15... Step: 1900... Loss: 1.3378... Val Loss: 1.3559\n",
            "Epoch: 14/15... Step: 1910... Loss: 1.3380... Val Loss: 1.3554\n",
            "Epoch: 14/15... Step: 1920... Loss: 1.3283... Val Loss: 1.3533\n",
            "Epoch: 14/15... Step: 1930... Loss: 1.2968... Val Loss: 1.3537\n",
            "Epoch: 14/15... Step: 1940... Loss: 1.3516... Val Loss: 1.3527\n",
            "Epoch: 15/15... Step: 1950... Loss: 1.3281... Val Loss: 1.3598\n",
            "Epoch: 15/15... Step: 1960... Loss: 1.3281... Val Loss: 1.3537\n",
            "Epoch: 15/15... Step: 1970... Loss: 1.3175... Val Loss: 1.3517\n",
            "Epoch: 15/15... Step: 1980... Loss: 1.3078... Val Loss: 1.3510\n",
            "Epoch: 15/15... Step: 1990... Loss: 1.3116... Val Loss: 1.3488\n",
            "Epoch: 15/15... Step: 2000... Loss: 1.2884... Val Loss: 1.3492\n",
            "Epoch: 15/15... Step: 2010... Loss: 1.3133... Val Loss: 1.3452\n",
            "Epoch: 15/15... Step: 2020... Loss: 1.3298... Val Loss: 1.3493\n",
            "Epoch: 15/15... Step: 2030... Loss: 1.3081... Val Loss: 1.3460\n",
            "Epoch: 15/15... Step: 2040... Loss: 1.3187... Val Loss: 1.3442\n",
            "Epoch: 15/15... Step: 2050... Loss: 1.2981... Val Loss: 1.3433\n",
            "Epoch: 15/15... Step: 2060... Loss: 1.3073... Val Loss: 1.3382\n",
            "Epoch: 15/15... Step: 2070... Loss: 1.3181... Val Loss: 1.3401\n",
            "Epoch: 15/15... Step: 2080... Loss: 1.3141... Val Loss: 1.3391\n"
          ],
          "name": "stdout"
        }
      ]
    },
    {
      "cell_type": "markdown",
      "metadata": {
        "id": "XlCybyG7zfoO",
        "colab_type": "text"
      },
      "source": [
        "## Getting the best model\n",
        "\n",
        "To set your hyperparameters to get the best performance, you'll want to watch the training and validation losses. If your training loss is much lower than the validation loss, you're overfitting. Increase regularization (more dropout) or use a smaller network. If the training and validation losses are close, you're underfitting so you can increase the size of the network."
      ]
    },
    {
      "cell_type": "markdown",
      "metadata": {
        "id": "8ZTGtQvPzfoR",
        "colab_type": "text"
      },
      "source": [
        "## Hyperparameters\n",
        "\n",
        "Here are the hyperparameters for the network.\n",
        "\n",
        "In defining the model:\n",
        "* `n_hidden` - The number of units in the hidden layers.\n",
        "* `n_layers` - Number of hidden LSTM layers to use.\n",
        "\n",
        "We assume that dropout probability and learning rate will be kept at the default, in this example.\n",
        "\n",
        "And in training:\n",
        "* `batch_size` - Number of sequences running through the network in one pass.\n",
        "* `seq_length` - Number of characters in the sequence the network is trained on. Larger is better typically, the network will learn more long range dependencies. But it takes longer to train. 100 is typically a good number here.\n",
        "* `lr` - Learning rate for training\n",
        "\n",
        "Here's some good advice from Andrej Karpathy on training the network. I'm going to copy it in here for your benefit, but also link to [where it originally came from](https://github.com/karpathy/char-rnn#tips-and-tricks).\n",
        "\n",
        "> ## Tips and Tricks\n",
        "\n",
        ">### Monitoring Validation Loss vs. Training Loss\n",
        ">If you're somewhat new to Machine Learning or Neural Networks it can take a bit of expertise to get good models. The most important quantity to keep track of is the difference between your training loss (printed during training) and the validation loss (printed once in a while when the RNN is run on the validation data (by default every 1000 iterations)). In particular:\n",
        "\n",
        "> - If your training loss is much lower than validation loss then this means the network might be **overfitting**. Solutions to this are to decrease your network size, or to increase dropout. For example you could try dropout of 0.5 and so on.\n",
        "> - If your training/validation loss are about equal then your model is **underfitting**. Increase the size of your model (either number of layers or the raw number of neurons per layer)\n",
        "\n",
        "> ### Approximate number of parameters\n",
        "\n",
        "> The two most important parameters that control the model are `n_hidden` and `n_layers`. I would advise that you always use `n_layers` of either 2/3. The `n_hidden` can be adjusted based on how much data you have. The two important quantities to keep track of here are:\n",
        "\n",
        "> - The number of parameters in your model. This is printed when you start training.\n",
        "> - The size of your dataset. 1MB file is approximately 1 million characters.\n",
        "\n",
        ">These two should be about the same order of magnitude. It's a little tricky to tell. Here are some examples:\n",
        "\n",
        "> - I have a 100MB dataset and I'm using the default parameter settings (which currently print 150K parameters). My data size is significantly larger (100 mil >> 0.15 mil), so I expect to heavily underfit. I am thinking I can comfortably afford to make `n_hidden` larger.\n",
        "> - I have a 10MB dataset and running a 10 million parameter model. I'm slightly nervous and I'm carefully monitoring my validation loss. If it's larger than my training loss then I may want to try to increase dropout a bit and see if that helps the validation loss.\n",
        "\n",
        "> ### Best models strategy\n",
        "\n",
        ">The winning strategy to obtaining very good models (if you have the compute time) is to always err on making the network larger (as large as you're willing to wait for it to compute) and then try different dropout values (between 0,1). Whatever model has the best validation performance (the loss, written in the checkpoint filename, low is good) is the one you should use in the end.\n",
        "\n",
        ">It is very common in deep learning to run many different models with many different hyperparameter settings, and in the end take whatever checkpoint gave the best validation performance.\n",
        "\n",
        ">By the way, the size of your training and validation splits are also parameters. Make sure you have a decent amount of data in your validation set or otherwise the validation performance will be noisy and not very informative."
      ]
    },
    {
      "cell_type": "markdown",
      "metadata": {
        "id": "95ZNr3N9zfoS",
        "colab_type": "text"
      },
      "source": [
        "## Checkpoint\n",
        "\n",
        "After training, we'll save the model so we can load it again later if we need too. Here I'm saving the parameters needed to create the same architecture, the hidden layer hyperparameters and the text characters."
      ]
    },
    {
      "cell_type": "code",
      "metadata": {
        "id": "_z95fSOizfoT",
        "colab_type": "code",
        "colab": {}
      },
      "source": [
        "# change the name, for saving multiple files\n",
        "model_name = 'rnn_x_epoch.net'\n",
        "\n",
        "checkpoint = {'n_hidden': net.n_hidden,\n",
        "              'n_layers': net.n_layers,\n",
        "              'state_dict': net.state_dict(),\n",
        "              'tokens': net.chars}\n",
        "\n",
        "with open(model_name, 'wb') as f:\n",
        "    torch.save(checkpoint, f)"
      ],
      "execution_count": 0,
      "outputs": []
    },
    {
      "cell_type": "markdown",
      "metadata": {
        "id": "nKimSsAVzfoX",
        "colab_type": "text"
      },
      "source": [
        "---\n",
        "## Making Predictions\n",
        "\n",
        "Now that the model is trained, we'll want to sample from it and make predictions about next characters! To sample, we pass in a character and have the network predict the next character. Then we take that character, pass it back in, and get another predicted character. Just keep doing this and you'll generate a bunch of text!\n",
        "\n",
        "### A note on the `predict`  function\n",
        "\n",
        "The output of our RNN is from a fully-connected layer and it outputs a **distribution of next-character scores**.\n",
        "\n",
        "> To actually get the next character, we apply a softmax function, which gives us a *probability* distribution that we can then sample to predict the next character.\n",
        "\n",
        "### Top K sampling\n",
        "\n",
        "Our predictions come from a categorical probability distribution over all the possible characters. We can make the sample text and make it more reasonable to handle (with less variables) by only considering some $K$ most probable characters. This will prevent the network from giving us completely absurd characters while allowing it to introduce some noise and randomness into the sampled text. Read more about [topk, here](https://pytorch.org/docs/stable/torch.html#torch.topk).\n"
      ]
    },
    {
      "cell_type": "code",
      "metadata": {
        "id": "DFTrxhANzfoY",
        "colab_type": "code",
        "colab": {}
      },
      "source": [
        "def predict(net, char, h=None, top_k=None):\n",
        "        ''' Given a character, predict the next character.\n",
        "            Returns the predicted character and the hidden state.\n",
        "        '''\n",
        "        \n",
        "        # tensor inputs\n",
        "        x = np.array([[net.char2int[char]]])\n",
        "        x = one_hot_encode(x, len(net.chars))\n",
        "        inputs = torch.from_numpy(x)\n",
        "        \n",
        "        if(train_on_gpu):\n",
        "            inputs = inputs.cuda()\n",
        "        \n",
        "        # detach hidden state from history\n",
        "        h = tuple([each.data for each in h])\n",
        "        # get the output of the model\n",
        "        out, h = net(inputs, h)\n",
        "\n",
        "        # get the character probabilities\n",
        "        p = F.softmax(out, dim=1).data\n",
        "        if(train_on_gpu):\n",
        "            p = p.cpu() # move to cpu\n",
        "        \n",
        "        # get top characters\n",
        "        if top_k is None:\n",
        "            top_ch = np.arange(len(net.chars))\n",
        "        else:\n",
        "            p, top_ch = p.topk(top_k)\n",
        "            top_ch = top_ch.numpy().squeeze()\n",
        "        \n",
        "        # select the likely next character with some element of randomness\n",
        "        p = p.numpy().squeeze()\n",
        "        char = np.random.choice(top_ch, p=p/p.sum())\n",
        "        \n",
        "        # return the encoded value of the predicted char and the hidden state\n",
        "        return net.int2char[char], h"
      ],
      "execution_count": 0,
      "outputs": []
    },
    {
      "cell_type": "markdown",
      "metadata": {
        "id": "sk4N1oODzfod",
        "colab_type": "text"
      },
      "source": [
        "### Priming and generating text \n",
        "\n",
        "Typically you'll want to prime the network so you can build up a hidden state. Otherwise the network will start out generating characters at random. In general the first bunch of characters will be a little rough since it hasn't built up a long history of characters to predict from."
      ]
    },
    {
      "cell_type": "code",
      "metadata": {
        "id": "agxRWEQBzfoe",
        "colab_type": "code",
        "colab": {}
      },
      "source": [
        "def sample(net, size, prime='The', top_k=None):\n",
        "        \n",
        "    if(train_on_gpu):\n",
        "        net.cuda()\n",
        "    else:\n",
        "        net.cpu()\n",
        "    \n",
        "    net.eval() # eval mode\n",
        "    \n",
        "    # First off, run through the prime characters\n",
        "    chars = [ch for ch in prime]\n",
        "    h = net.init_hidden(1)\n",
        "    for ch in prime:\n",
        "        char, h = predict(net, ch, h, top_k=top_k)\n",
        "\n",
        "    chars.append(char)\n",
        "    \n",
        "    # Now pass in the previous character and get a new one\n",
        "    for ii in range(size):\n",
        "        char, h = predict(net, chars[-1], h, top_k=top_k)\n",
        "        chars.append(char)\n",
        "\n",
        "    return ''.join(chars)"
      ],
      "execution_count": 0,
      "outputs": []
    },
    {
      "cell_type": "code",
      "metadata": {
        "id": "6GS81Kvozfoi",
        "colab_type": "code",
        "colab": {
          "base_uri": "https://localhost:8080/",
          "height": 377
        },
        "outputId": "ccd06e93-924c-4c60-8eb6-898ff022496d"
      },
      "source": [
        "print(sample(net, 1000, prime='Anna', top_k=5))"
      ],
      "execution_count": 25,
      "outputs": [
        {
          "output_type": "stream",
          "text": [
            "Anna took a conversation, and she came out that the courte of her life, too was\n",
            "a servon of the\n",
            "more since impositively, she would not say that it was in a\n",
            "cross, the strond of any of\n",
            "and taking of the same supposition in the distract of his sount of the persupper, when he had to go, with an eary of some position\n",
            "in the measing of him, the\n",
            "prince had been still to get on other\n",
            "pitious conversation, who help his happy, to be about all one, but her friends and to solich,\" as\n",
            "she said to the priest, and though he was nuch and so ilentering. And all of all his hands at other painsters, all on his words. And there was in all of\n",
            "herself, he went on on\n",
            "the portration of himself. He was as though to heart, and went out of his hand, and as sounding her friends\n",
            "on\n",
            "the same straight the clubs and table\n",
            "to her.\n",
            "\n",
            "\"What is to be an acconditions to spain for me. And I have the\n",
            "passed more\n",
            "signify? What do yaid I'm been taking me it.\n",
            "With are you mine of the\n",
            "mind what is all of that?\" said Stepan Arkadyevi\n"
          ],
          "name": "stdout"
        }
      ]
    },
    {
      "cell_type": "markdown",
      "metadata": {
        "id": "4J-ix6tkzfom",
        "colab_type": "text"
      },
      "source": [
        "## Loading a checkpoint"
      ]
    },
    {
      "cell_type": "code",
      "metadata": {
        "id": "PAVMJjUpzfon",
        "colab_type": "code",
        "colab": {
          "base_uri": "https://localhost:8080/",
          "height": 34
        },
        "outputId": "02fa75c1-6a64-4f2e-e359-6678a74a2c27"
      },
      "source": [
        "# Here we have loaded in a model that trained over 20 epochs `rnn_20_epoch.net`\n",
        "with open('rnn_x_epoch.net', 'rb') as f:\n",
        "    checkpoint = torch.load(f)\n",
        "    \n",
        "loaded = CharRNN(checkpoint['tokens'], n_hidden=checkpoint['n_hidden'], n_layers=checkpoint['n_layers'])\n",
        "loaded.load_state_dict(checkpoint['state_dict'])"
      ],
      "execution_count": 26,
      "outputs": [
        {
          "output_type": "execute_result",
          "data": {
            "text/plain": [
              "<All keys matched successfully>"
            ]
          },
          "metadata": {
            "tags": []
          },
          "execution_count": 26
        }
      ]
    },
    {
      "cell_type": "code",
      "metadata": {
        "id": "Am8DEqy2zfot",
        "colab_type": "code",
        "colab": {
          "base_uri": "https://localhost:8080/",
          "height": 853
        },
        "outputId": "e72d9e03-733a-4196-85d6-7a45d12a1ac3"
      },
      "source": [
        "# Sample using a loaded model\n",
        "print(sample(loaded, 2000, top_k=5, prime=\"And Levin said\"))"
      ],
      "execution_count": 27,
      "outputs": [
        {
          "output_type": "stream",
          "text": [
            "And Levin said.\n",
            "\n",
            "He was not a moner, and, was not seeing that the cart of her face in the\n",
            "same time the counting the conversation of his face was better at the might as it had a conviste with her.\n",
            "\n",
            "\"That, it's a month!\"\n",
            "\n",
            "\"I don't know.\"\n",
            "\n",
            "\"That's nut a ceasant children? You know how to be thome for her at the same\n",
            "and\n",
            "sourdess of the\n",
            "farming of the mother's\n",
            "sating to more impartable? And with the country, how is such\n",
            "a\n",
            "steps?\"\n",
            "\n",
            "\"Well, I don't know. I shall\n",
            "be no one as a minute,\" said Anna.\n",
            "\n",
            "\"You must be still so much it as I'm going to see this it as you\n",
            "will be somethors and telegrish!\" he said, and,\n",
            "what he went to be sometimal saying as he had been answered in his hat findered\n",
            "her, said that he changed him out to her son of her sufferings on\n",
            "his feeling, wanted to art attractive for the peasants, and he had\n",
            "brought a mother and had at the streng whole as the persund of some sight on them, a signing standed tall of his hand, the ment of the\n",
            "minutes he seemed in a\n",
            "steps of secriticies and wine of himself.\n",
            "\n",
            "Anna said to an expression of the position. He had all the peasant was\n",
            "seening, though along, and so that that he was at the bady feeling, an interval out the contrant on\n",
            "their convisted.... He had sayed a port in her hands. He called in that hands of the maintication of too, with the first station of a forming pluse, which\n",
            "had been decided.\n",
            "\n",
            "\"Well, what do you made and\n",
            "too,\" said Stepan\n",
            "Arkadyevitch. \"We'll be to speak and do better it? You want to be done about the firmation. What's the meaning?\" she said.\n",
            "\n",
            "\"Yes,\" said Stepan Arkadyevitch's conversation. \"What are you meant and the careful\n",
            "point of the sould she was in it was and talk of theself, who has told you.\"\n",
            "\n",
            "\"Well, will so.\".\" \n",
            "\"Why is\n",
            "you will be standing on,\" said Anna's face, and the same smile\n",
            "as he was at the musbons\n",
            "on the same and with which he had as her little down, shouting with which she went off that they was a stand of compretond. He could not show her, and was as talking to\n",
            "the foor and want with them.\n",
            " \n"
          ],
          "name": "stdout"
        }
      ]
    },
    {
      "cell_type": "code",
      "metadata": {
        "id": "OaFfj7yQzfo1",
        "colab_type": "code",
        "colab": {}
      },
      "source": [
        ""
      ],
      "execution_count": 0,
      "outputs": []
    }
  ]
}